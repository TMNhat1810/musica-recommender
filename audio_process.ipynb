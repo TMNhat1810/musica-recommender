{
 "cells": [
  {
   "cell_type": "code",
   "execution_count": 2,
   "metadata": {},
   "outputs": [
    {
     "name": "stderr",
     "output_type": "stream",
     "text": [
      "d:\\code\\capstone\\misc\\RecommenderSystem\\.venv\\lib\\site-packages\\tqdm\\auto.py:21: TqdmWarning: IProgress not found. Please update jupyter and ipywidgets. See https://ipywidgets.readthedocs.io/en/stable/user_install.html\n",
      "  from .autonotebook import tqdm as notebook_tqdm\n"
     ]
    }
   ],
   "source": [
    "import os\n",
    "import numpy as np\n",
    "import librosa\n",
    "import torch\n",
    "import cv2\n",
    "from sentence_transformers import SentenceTransformer\n",
    "from torchvision import transforms\n",
    "from PIL import Image\n",
    "from qdrant_client import QdrantClient\n",
    "from qdrant_client.models import PointStruct, Distance, VectorParams, CollectionConfig\n",
    "import clip"
   ]
  },
  {
   "cell_type": "code",
   "execution_count": 3,
   "metadata": {},
   "outputs": [],
   "source": [
    "qdrant = QdrantClient('localhost', port=6333)\n",
    "\n",
    "collection_name = \"video_features\"\n",
    "if not qdrant.collection_exists(collection_name):\n",
    "   qdrant.create_collection(\n",
    "      collection_name=collection_name,\n",
    "      vectors_config={\n",
    "        \"title_vector\": VectorParams(size=384, distance=Distance.COSINE),\n",
    "        \"image_vector\": VectorParams(size=512, distance=Distance.COSINE),\n",
    "        \"audio_vector\": VectorParams(size=128, distance=Distance.COSINE),\n",
    "    }\n",
    "   )\n",
    "\n",
    "device = \"cuda\" if torch.cuda.is_available() else \"cpu\"\n",
    "\n",
    "text_model = SentenceTransformer(\"all-MiniLM-L6-v2\")\n",
    "clip_model, preprocess = clip.load(\"ViT-B/32\", device=device)"
   ]
  },
  {
   "cell_type": "code",
   "execution_count": 4,
   "metadata": {},
   "outputs": [],
   "source": [
    "# Function to extract text embeddings (e.g., using filename as text)\n",
    "def extract_text_embedding(text):\n",
    "    \"\"\"Generate text vector using Sentence Transformers\"\"\"\n",
    "    return text_model.encode(text).tolist()\n",
    "\n",
    "# Function to extract video frame embeddings\n",
    "def extract_video_embedding(video_path, num_frames=5):\n",
    "    \"\"\"Extracts frames from a video and computes an average embedding\"\"\"\n",
    "    \n",
    "    cap = cv2.VideoCapture(video_path)\n",
    "    frames = []\n",
    "    frame_count = int(cap.get(cv2.CAP_PROP_FRAME_COUNT))\n",
    "    \n",
    "    for i in np.linspace(0, frame_count - 1, num_frames).astype(int):  # Sample evenly spaced frames\n",
    "        cap.set(cv2.CAP_PROP_POS_FRAMES, i)\n",
    "        ret, frame = cap.read()\n",
    "        if not ret:\n",
    "            continue\n",
    "        \n",
    "        # Convert to PIL image and preprocess\n",
    "        image = Image.fromarray(cv2.cvtColor(frame, cv2.COLOR_BGR2RGB))\n",
    "        preprocess = transforms.Compose([\n",
    "            transforms.Resize((224, 224)),\n",
    "            transforms.ToTensor()\n",
    "        ])\n",
    "        image_tensor = preprocess(image).unsqueeze(0).to(device)\n",
    "        \n",
    "        # Encode using CLIP\n",
    "        with torch.no_grad():\n",
    "            image_features = clip_model.encode_image(image_tensor).cpu().numpy().flatten()\n",
    "        \n",
    "        frames.append(image_features)\n",
    "\n",
    "    cap.release()\n",
    "    \n",
    "    if frames:\n",
    "        return np.mean(frames, axis=0).tolist()  # Average frame embeddings\n",
    "    else:\n",
    "        return [0] * 512  # Default vector if no frames extracted\n",
    "\n",
    "# Function to extract audio embeddings\n",
    "def extract_audio_embedding(video_path):\n",
    "    \"\"\"Extracts audio from video and computes an MFCC-based embedding\"\"\"\n",
    "    y, sr = librosa.load(video_path, sr=16000, duration=10)  # Load first 10 seconds\n",
    "    mfcc = librosa.feature.mfcc(y=y, sr=sr, n_mfcc=128)\n",
    "    audio_vector = np.mean(mfcc, axis=1)  # Take mean across time\n",
    "\n",
    "    return audio_vector.tolist()\n",
    "\n",
    "# Function to process and store in Qdrant\n",
    "def process_video(video_path):\n",
    "    \"\"\"Extract features and store them in Qdrant\"\"\"\n",
    "    video_id = os.path.basename(video_path).split(\".\")[0]  # Use filename as ID\n",
    "    video_title = os.path.basename(video_path)  # Use filename as title\n",
    "\n",
    "    # Extract features\n",
    "    title_vector = extract_text_embedding(video_title)\n",
    "    video_vector = extract_video_embedding(video_path)\n",
    "    audio_vector = extract_audio_embedding(video_path)\n",
    "\n",
    "    # Store in Qdrant\n",
    "    qdrant.upsert(\n",
    "        collection_name=collection_name,\n",
    "        points=[\n",
    "            PointStruct(\n",
    "                id=int(hash(video_id) % 1_000_000),  # Unique but simple ID\n",
    "                vector={\n",
    "                    \"title_vector\": title_vector,\n",
    "                    \"video_vector\": video_vector,\n",
    "                    \"audio_vector\": audio_vector\n",
    "                },\n",
    "                payload={\"title\": video_title}  # Store title as metadata\n",
    "            )\n",
    "        ]\n",
    "    )\n",
    "\n",
    "    print(f\"✅ Processed and stored: {video_title}\")"
   ]
  },
  {
   "cell_type": "code",
   "execution_count": 8,
   "metadata": {},
   "outputs": [
    {
     "data": {
      "text/plain": [
       "['data\\\\video\\\\As It Was (Harry Styles) - NELL X Sungha Jung [O9-CQndjtEQ].mp4',\n",
       " 'data\\\\video\\\\Classical Gas🔥 [cx6Nva2yUjk].mp4',\n",
       " \"data\\\\video\\\\Don't Stop Me Now (Queen) - Sungha Jung [pqQf1uD5m90].mp4\",\n",
       " 'data\\\\video\\\\Flaming (With Kotaro Oshio) - Sungha Jung (Official Music Video) [tJIkyeTqExE].mp4',\n",
       " 'data\\\\video\\\\Seventh #9 - Sungha Jung [i3-mzP_KYVc].mp4',\n",
       " 'data\\\\video\\\\Sukidakara (Yuika) [-Iz-dnVCfto].mp4']"
      ]
     },
     "execution_count": 8,
     "metadata": {},
     "output_type": "execute_result"
    }
   ],
   "source": [
    "video_files = [os.path.join('data', 'video', filename) for filename in os.listdir('data/video')]\n",
    "video_files"
   ]
  },
  {
   "cell_type": "code",
   "execution_count": 9,
   "metadata": {},
   "outputs": [
    {
     "name": "stderr",
     "output_type": "stream",
     "text": [
      "C:\\Users\\minhn\\AppData\\Local\\Temp\\ipykernel_5544\\1368872385.py:44: UserWarning: PySoundFile failed. Trying audioread instead.\n",
      "  y, sr = librosa.load(video_path, sr=16000, duration=10)  # Load first 10 seconds\n",
      "d:\\code\\capstone\\misc\\RecommenderSystem\\.venv\\lib\\site-packages\\librosa\\core\\audio.py:184: FutureWarning: librosa.core.audio.__audioread_load\n",
      "\tDeprecated as of librosa version 0.10.0.\n",
      "\tIt will be removed in librosa version 1.0.\n",
      "  y, sr_native = __audioread_load(path, offset, duration, dtype)\n"
     ]
    },
    {
     "name": "stdout",
     "output_type": "stream",
     "text": [
      "✅ Processed and stored: As It Was (Harry Styles) - NELL X Sungha Jung [O9-CQndjtEQ].mp4\n"
     ]
    },
    {
     "name": "stderr",
     "output_type": "stream",
     "text": [
      "C:\\Users\\minhn\\AppData\\Local\\Temp\\ipykernel_5544\\1368872385.py:44: UserWarning: PySoundFile failed. Trying audioread instead.\n",
      "  y, sr = librosa.load(video_path, sr=16000, duration=10)  # Load first 10 seconds\n",
      "d:\\code\\capstone\\misc\\RecommenderSystem\\.venv\\lib\\site-packages\\librosa\\core\\audio.py:184: FutureWarning: librosa.core.audio.__audioread_load\n",
      "\tDeprecated as of librosa version 0.10.0.\n",
      "\tIt will be removed in librosa version 1.0.\n",
      "  y, sr_native = __audioread_load(path, offset, duration, dtype)\n"
     ]
    },
    {
     "name": "stdout",
     "output_type": "stream",
     "text": [
      "✅ Processed and stored: Classical Gas🔥 [cx6Nva2yUjk].mp4\n",
      "✅ Processed and stored: Don't Stop Me Now (Queen) - Sungha Jung [pqQf1uD5m90].mp4\n",
      "✅ Processed and stored: Flaming (With Kotaro Oshio) - Sungha Jung (Official Music Video) [tJIkyeTqExE].mp4\n",
      "✅ Processed and stored: Seventh #9 - Sungha Jung [i3-mzP_KYVc].mp4\n",
      "✅ Processed and stored: Sukidakara (Yuika) [-Iz-dnVCfto].mp4\n"
     ]
    }
   ],
   "source": [
    "for video_file in video_files:\n",
    "    process_video(video_file)"
   ]
  },
  {
   "cell_type": "code",
   "execution_count": 10,
   "metadata": {},
   "outputs": [
    {
     "name": "stdout",
     "output_type": "stream",
     "text": [
      "🆔 ID: 62401\n",
      "📌 Title: Sukidakara (Yuika) [-Iz-dnVCfto].mp4\n",
      "🖼️ Title Vector (First 5): [-0.07499942, 0.03263671, -0.042732365, -0.08395473, 0.016908957]...\n",
      "📹 Video Vector (First 5): [0.014596695, 0.015319879, -0.0145066, 0.0068330355, 0.028749267]...\n",
      "🎵 Audio Vector (First 5): [-0.96456, 0.21708448, 0.016817512, 0.08304698, 0.009641521]...\n",
      "============================================================\n",
      "🆔 ID: 175417\n",
      "📌 Title: Don't Stop Me Now (Queen) - Sungha Jung [pqQf1uD5m90].mp4\n",
      "🖼️ Title Vector (First 5): [-0.0067511243, -0.0044751368, 0.021656744, -0.0799907, 0.12465984]...\n",
      "📹 Video Vector (First 5): [0.017497018, 0.01780323, 0.0065654377, 0.012469152, 0.033730667]...\n",
      "🎵 Audio Vector (First 5): [-0.9582322, 0.26381576, 0.013033486, 0.061974417, 0.0034579327]...\n",
      "============================================================\n",
      "🆔 ID: 237669\n",
      "📌 Title: As It Was (Harry Styles) - NELL X Sungha Jung [O9-CQndjtEQ].mp4\n",
      "🖼️ Title Vector (First 5): [-0.0675062, 0.09082677, -0.055744987, -0.036358066, -0.012560165]...\n",
      "📹 Video Vector (First 5): [-0.014364097, 0.012391116, -0.022775052, 0.014093298, 0.026422227]...\n",
      "🎵 Audio Vector (First 5): [-0.9121875, 0.33052072, 0.019061027, 0.05094812, -0.0029147752]...\n",
      "============================================================\n",
      "🆔 ID: 258010\n",
      "📌 Title: As It Was (Harry Styles) - NELL X Sungha Jung [O9-CQndjtEQ].mp4\n",
      "🖼️ Title Vector (First 5): [-0.0675062, 0.09082677, -0.055744987, -0.036358066, -0.012560165]...\n",
      "📹 Video Vector (First 5): [-0.014364097, 0.012391116, -0.022775052, 0.014093298, 0.026422227]...\n",
      "🎵 Audio Vector (First 5): [-0.9121875, 0.33052072, 0.019061027, 0.05094812, -0.0029147752]...\n",
      "============================================================\n",
      "🆔 ID: 370826\n",
      "📌 Title: Don't Stop Me Now (Queen) - Sungha Jung [pqQf1uD5m90].mp4\n",
      "🖼️ Title Vector (First 5): [-0.0067511243, -0.0044751368, 0.021656744, -0.0799907, 0.12465984]...\n",
      "📹 Video Vector (First 5): [0.017497018, 0.01780323, 0.0065654377, 0.012469152, 0.033730667]...\n",
      "🎵 Audio Vector (First 5): [-0.9582322, 0.26381576, 0.013033486, 0.061974417, 0.0034579327]...\n",
      "============================================================\n",
      "🆔 ID: 421198\n",
      "📌 Title: Flaming (With Kotaro Oshio) - Sungha Jung (Official Music Video) [tJIkyeTqExE].mp4\n",
      "🖼️ Title Vector (First 5): [-0.019551063, 0.06014902, -0.03883617, -0.06748948, 0.06970756]...\n",
      "📹 Video Vector (First 5): [0.010793081, 0.01675374, -0.00691382, 0.014678269, 0.018840251]...\n",
      "🎵 Audio Vector (First 5): [-0.9316531, 0.32956094, 0.070390284, 0.049556885, 0.025737915]...\n",
      "============================================================\n",
      "🆔 ID: 440814\n",
      "📌 Title: Flaming (With Kotaro Oshio) - Sungha Jung (Official Music Video) [tJIkyeTqExE].mp4\n",
      "🖼️ Title Vector (First 5): [-0.019551063, 0.06014902, -0.03883617, -0.06748948, 0.06970756]...\n",
      "📹 Video Vector (First 5): [0.010793081, 0.01675374, -0.00691382, 0.014678269, 0.018840251]...\n",
      "🎵 Audio Vector (First 5): [-0.9316531, 0.32956094, 0.070390284, 0.049556885, 0.025737915]...\n",
      "============================================================\n",
      "🆔 ID: 481888\n",
      "📌 Title: Sukidakara (Yuika) [-Iz-dnVCfto].mp4\n",
      "🖼️ Title Vector (First 5): [-0.07499942, 0.03263671, -0.042732365, -0.08395473, 0.016908957]...\n",
      "📹 Video Vector (First 5): [0.014596695, 0.015319879, -0.0145066, 0.0068330355, 0.028749267]...\n",
      "🎵 Audio Vector (First 5): [-0.96456, 0.21708448, 0.016817512, 0.08304698, 0.009641521]...\n",
      "============================================================\n",
      "🆔 ID: 646674\n",
      "📌 Title: Seventh #9 - Sungha Jung [i3-mzP_KYVc].mp4\n",
      "🖼️ Title Vector (First 5): [-0.079455204, 0.025906736, -0.023195883, -0.05580442, 0.08113979]...\n",
      "📹 Video Vector (First 5): [0.007324681, 0.009497449, 0.0011458695, 0.0033198842, 0.033155907]...\n",
      "🎵 Audio Vector (First 5): [-0.9944945, 0.09520254, -0.0028552478, 0.017257944, 0.008354881]...\n",
      "============================================================\n",
      "🆔 ID: 750997\n",
      "📌 Title: Classical Gas🔥 [cx6Nva2yUjk].mp4\n",
      "🖼️ Title Vector (First 5): [-0.0013843529, 0.022035357, 0.011836802, -0.10224911, -0.07181264]...\n",
      "📹 Video Vector (First 5): [0.02521497, 0.013258349, 0.014775943, 0.022830684, 0.011308478]...\n",
      "🎵 Audio Vector (First 5): [-0.84314704, 0.4615416, 0.030894287, 0.16137888, 0.042108748]...\n",
      "============================================================\n",
      "🆔 ID: 888354\n",
      "📌 Title: Seventh #9 - Sungha Jung [i3-mzP_KYVc].mp4\n",
      "🖼️ Title Vector (First 5): [-0.079455204, 0.025906736, -0.023195883, -0.05580442, 0.08113979]...\n",
      "📹 Video Vector (First 5): [0.007324681, 0.009497449, 0.0011458695, 0.0033198842, 0.033155907]...\n",
      "🎵 Audio Vector (First 5): [-0.9944945, 0.09520254, -0.0028552478, 0.017257944, 0.008354881]...\n",
      "============================================================\n",
      "🆔 ID: 934047\n",
      "📌 Title: Classical Gas🔥 [cx6Nva2yUjk].mp4\n",
      "🖼️ Title Vector (First 5): [-0.0013843529, 0.022035357, 0.011836802, -0.10224911, -0.07181264]...\n",
      "📹 Video Vector (First 5): [0.02521497, 0.013258349, 0.014775943, 0.022830684, 0.011308478]...\n",
      "🎵 Audio Vector (First 5): [-0.84314704, 0.4615416, 0.030894287, 0.16137888, 0.042108748]...\n",
      "============================================================\n"
     ]
    }
   ],
   "source": [
    "\n",
    "def fetch_all_vectors():\n",
    "    result = qdrant.scroll(\n",
    "        collection_name=collection_name,\n",
    "        limit=100,  # Adjust to fetch more points\n",
    "        with_vectors=True,   # Include stored vectors\n",
    "        with_payload=True    # Include metadata (e.g., title)\n",
    "    )\n",
    "    \n",
    "    for point in result[0]:  # Qdrant returns (data, next_offset)\n",
    "        print(f\"🆔 ID: {point.id}\")\n",
    "        print(f\"📌 Title: {point.payload.get('title', 'No Title')}\")\n",
    "        print(f\"🖼️ Title Vector (First 5): {point.vector.get('title_vector')[:5]}...\")\n",
    "        print(f\"📹 Video Vector (First 5): {point.vector.get('video_vector')[:5]}...\")\n",
    "        print(f\"🎵 Audio Vector (First 5): {point.vector.get('audio_vector')[:5]}...\")\n",
    "        print(\"=\" * 60)\n",
    "\n",
    "\n",
    "fetch_all_vectors()"
   ]
  },
  {
   "cell_type": "code",
   "execution_count": 1,
   "metadata": {},
   "outputs": [
    {
     "ename": "NameError",
     "evalue": "name 'qdrant' is not defined",
     "output_type": "error",
     "traceback": [
      "\u001b[1;31m---------------------------------------------------------------------------\u001b[0m",
      "\u001b[1;31mNameError\u001b[0m                                 Traceback (most recent call last)",
      "Cell \u001b[1;32mIn[1], line 28\u001b[0m\n\u001b[0;32m     24\u001b[0m         \u001b[38;5;28mprint\u001b[39m(\u001b[38;5;124mf\u001b[39m\u001b[38;5;124m\"\u001b[39m\u001b[38;5;124m📌 Title: \u001b[39m\u001b[38;5;132;01m{\u001b[39;00mresult\u001b[38;5;241m.\u001b[39mpayload\u001b[38;5;241m.\u001b[39mget(\u001b[38;5;124m'\u001b[39m\u001b[38;5;124mtitle\u001b[39m\u001b[38;5;124m'\u001b[39m,\u001b[38;5;250m \u001b[39m\u001b[38;5;124m'\u001b[39m\u001b[38;5;124mNo Title\u001b[39m\u001b[38;5;124m'\u001b[39m)\u001b[38;5;132;01m}\u001b[39;00m\u001b[38;5;124m\"\u001b[39m)\n\u001b[0;32m     25\u001b[0m         \u001b[38;5;28mprint\u001b[39m(\u001b[38;5;124m\"\u001b[39m\u001b[38;5;124m-\u001b[39m\u001b[38;5;124m\"\u001b[39m \u001b[38;5;241m*\u001b[39m \u001b[38;5;241m50\u001b[39m)\n\u001b[1;32m---> 28\u001b[0m \u001b[43mfind_similar_videos\u001b[49m\u001b[43m(\u001b[49m\u001b[43mvideo_id\u001b[49m\u001b[38;5;241;43m=\u001b[39;49m\u001b[38;5;241;43m963694\u001b[39;49m\u001b[43m,\u001b[49m\u001b[43m \u001b[49m\u001b[43mtop_k\u001b[49m\u001b[38;5;241;43m=\u001b[39;49m\u001b[38;5;241;43m3\u001b[39;49m\u001b[43m)\u001b[49m  \u001b[38;5;66;03m# Replace with a real video ID\u001b[39;00m\n",
      "Cell \u001b[1;32mIn[1], line 3\u001b[0m, in \u001b[0;36mfind_similar_videos\u001b[1;34m(video_id, top_k)\u001b[0m\n\u001b[0;32m      1\u001b[0m \u001b[38;5;28;01mdef\u001b[39;00m\u001b[38;5;250m \u001b[39m\u001b[38;5;21mfind_similar_videos\u001b[39m(video_id, top_k\u001b[38;5;241m=\u001b[39m\u001b[38;5;241m5\u001b[39m):\n\u001b[0;32m      2\u001b[0m     \u001b[38;5;66;03m# Fetch the selected video's vector\u001b[39;00m\n\u001b[1;32m----> 3\u001b[0m     response \u001b[38;5;241m=\u001b[39m \u001b[43mqdrant\u001b[49m\u001b[38;5;241m.\u001b[39mretrieve(collection_name, [video_id], with_vectors\u001b[38;5;241m=\u001b[39m\u001b[38;5;28;01mTrue\u001b[39;00m)\n\u001b[0;32m      4\u001b[0m     \u001b[38;5;28;01mif\u001b[39;00m \u001b[38;5;129;01mnot\u001b[39;00m response:\n\u001b[0;32m      5\u001b[0m         \u001b[38;5;28mprint\u001b[39m(\u001b[38;5;124m\"\u001b[39m\u001b[38;5;124m⚠️ Video not found in the collection!\u001b[39m\u001b[38;5;124m\"\u001b[39m)\n",
      "\u001b[1;31mNameError\u001b[0m: name 'qdrant' is not defined"
     ]
    }
   ],
   "source": [
    "def find_similar_videos(video_id, top_k=5):\n",
    "    # Fetch the selected video's vector\n",
    "    response = qdrant.retrieve(collection_name, [video_id], with_vectors=True)\n",
    "    if not response:\n",
    "        print(\"⚠️ Video not found in the collection!\")\n",
    "        return\n",
    "    \n",
    "    video_vector = response[0].vector[\"video_vector\"]  # Extract video vector\n",
    "\n",
    "    # Search for top-k similar videos\n",
    "    search_results = qdrant.search(\n",
    "        collection_name=collection_name,\n",
    "        query_vector=(\"video_vector\", video_vector),\n",
    "        limit=top_k + 1,  # +1 to exclude itself\n",
    "    )\n",
    "\n",
    "    # Print the results\n",
    "    print(f\"🎯 Searching for videos similar to Video ID {video_id}\\n\")\n",
    "    for result in search_results:\n",
    "        if result.id == video_id:  # Skip the query video itself\n",
    "            continue\n",
    "        print(f\"🆔 Video ID: {result.id}\")\n",
    "        print(f\"🔍 Similarity Score: {result.score:.4f}\")\n",
    "        print(f\"📌 Title: {result.payload.get('title', 'No Title')}\")\n",
    "        print(\"-\" * 50)\n",
    "\n",
    "\n",
    "find_similar_videos(video_id=963694, top_k=3)  # Replace with a real video ID"
   ]
  },
  {
   "cell_type": "code",
   "execution_count": 11,
   "metadata": {},
   "outputs": [
    {
     "data": {
      "text/plain": [
       "[Record(id=62401, payload={'title': 'Sukidakara (Yuika) [-Iz-dnVCfto].mp4'}, vector=None, shard_key=None, order_value=None)]"
      ]
     },
     "execution_count": 11,
     "metadata": {},
     "output_type": "execute_result"
    }
   ],
   "source": [
    "qdrant.retrieve(collection_name, [62401])"
   ]
  }
 ],
 "metadata": {
  "kernelspec": {
   "display_name": ".venv",
   "language": "python",
   "name": "python3"
  },
  "language_info": {
   "codemirror_mode": {
    "name": "ipython",
    "version": 3
   },
   "file_extension": ".py",
   "mimetype": "text/x-python",
   "name": "python",
   "nbconvert_exporter": "python",
   "pygments_lexer": "ipython3",
   "version": "3.10.11"
  }
 },
 "nbformat": 4,
 "nbformat_minor": 2
}
